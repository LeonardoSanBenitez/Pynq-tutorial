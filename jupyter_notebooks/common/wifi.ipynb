{
 "cells": [
  {
   "cell_type": "markdown",
   "metadata": {
    "hide_input": false
   },
   "source": [
    "# Wifi Example\n",
    "\n",
    "In this notebook, we show how to connect to a WiFi network.\n",
    "\n",
    "For boards equipped with a USB interface, a WiFi dongle can be plugged \n",
    "into the board. Specifically a RALink WiFi dongle commonly used with \n",
    "Raspberry Pi kits is connected into the board. Using Linux calls and \n",
    "Python functions, we will determine the unique name of the dongle and \n",
    "then create a network entry for a known ssid/password pair.\n",
    "\n",
    "For boards equipped with onboard WiFi module, we can follow the same\n",
    "process as well.\n",
    "\n",
    "References:\n",
    "http://www.canakit.com/raspberry-pi-wifi.html\n",
    "\n",
    "### 1. Create WiFi instance\n",
    "Make sure:\n",
    "1. The USB WiFi module has been plugged in, or \n",
    "2. There is already an embedded WiFi module on board (e.g. `Ultra96` and `PYNQ-ZU`)."
   ]
  },
  {
   "cell_type": "code",
   "execution_count": 1,
   "metadata": {},
   "outputs": [
    {
     "data": {
      "application/javascript": [
       "\n",
       "try {\n",
       "require(['notebook/js/codecell'], function(codecell) {\n",
       "  codecell.CodeCell.options_default.highlight_modes[\n",
       "      'magic_text/x-csrc'] = {'reg':[/^%%microblaze/]};\n",
       "  Jupyter.notebook.events.one('kernel_ready.Kernel', function(){\n",
       "      Jupyter.notebook.get_cells().map(function(cell){\n",
       "          if (cell.cell_type == 'code'){ cell.auto_highlight(); } }) ;\n",
       "  });\n",
       "});\n",
       "} catch (e) {};\n"
      ]
     },
     "metadata": {},
     "output_type": "display_data"
    },
    {
     "data": {
      "application/javascript": [
       "\n",
       "try {\n",
       "require(['notebook/js/codecell'], function(codecell) {\n",
       "  codecell.CodeCell.options_default.highlight_modes[\n",
       "      'magic_text/x-csrc'] = {'reg':[/^%%pybind11/]};\n",
       "  Jupyter.notebook.events.one('kernel_ready.Kernel', function(){\n",
       "      Jupyter.notebook.get_cells().map(function(cell){\n",
       "          if (cell.cell_type == 'code'){ cell.auto_highlight(); } }) ;\n",
       "  });\n",
       "});\n",
       "} catch (e) {};\n"
      ]
     },
     "metadata": {},
     "output_type": "display_data"
    }
   ],
   "source": [
    "from pynq.lib import Wifi\n",
    "\n",
    "port = Wifi()"
   ]
  },
  {
   "cell_type": "markdown",
   "metadata": {},
   "source": [
    "### 2. Connect to a WIFI link\n",
    "Type in the SSID and password as instructed. It may take a while to establish the connection."
   ]
  },
  {
   "cell_type": "code",
   "execution_count": 3,
   "metadata": {
    "hide_input": false
   },
   "outputs": [
    {
     "name": "stdout",
     "output_type": "stream",
     "text": [
      "Type in the SSID:Galaxy S20b5ec\n",
      "Type in the password:ksic8970\n"
     ]
    }
   ],
   "source": [
    "ssid = input(\"Type in the SSID:\")\n",
    "pwd = input(\"Type in the password:\")\n",
    "port.connect(ssid, pwd)"
   ]
  },
  {
   "cell_type": "markdown",
   "metadata": {},
   "source": [
    "### 3. Test connection\n",
    "Ping 10 packets, then the following cell stops automatically. Notice there\n",
    "are only a few websites that accept `ping`.\n",
    "\n",
    "The following cell assumes the default wireless interface `wlan0`."
   ]
  },
  {
   "cell_type": "code",
   "execution_count": 4,
   "metadata": {},
   "outputs": [
    {
     "name": "stdout",
     "output_type": "stream",
     "text": [
      "PING me-ycpi-cf-www.g06.yahoodns.net (188.125.95.240) from 192.168.202.179 wlan0: 56(84) bytes of data.\n",
      "64 bytes from e2-ha.ycpi.esa.yahoo.com (188.125.95.240): icmp_seq=1 ttl=56 time=41.6 ms\n",
      "64 bytes from e2-ha.ycpi.esa.yahoo.com (188.125.95.240): icmp_seq=2 ttl=56 time=43.3 ms\n",
      "64 bytes from e2-ha.ycpi.esa.yahoo.com (188.125.95.240): icmp_seq=3 ttl=56 time=45.4 ms\n",
      "64 bytes from e2-ha.ycpi.esa.yahoo.com (188.125.95.240): icmp_seq=4 ttl=56 time=114 ms\n",
      "64 bytes from e2-ha.ycpi.esa.yahoo.com (188.125.95.240): icmp_seq=5 ttl=56 time=50.4 ms\n",
      "64 bytes from e2-ha.ycpi.esa.yahoo.com (188.125.95.240): icmp_seq=6 ttl=56 time=82.3 ms\n",
      "64 bytes from e2-ha.ycpi.esa.yahoo.com (188.125.95.240): icmp_seq=7 ttl=56 time=47.3 ms\n",
      "64 bytes from e2-ha.ycpi.esa.yahoo.com (188.125.95.240): icmp_seq=8 ttl=56 time=77.4 ms\n",
      "64 bytes from e2-ha.ycpi.esa.yahoo.com (188.125.95.240): icmp_seq=9 ttl=56 time=84.3 ms\n",
      "\n",
      "--- me-ycpi-cf-www.g06.yahoodns.net ping statistics ---\n",
      "10 packets transmitted, 9 received, 10% packet loss, time 9015ms\n",
      "rtt min/avg/max/mdev = 41.592/65.094/113.806/23.899 ms\n"
     ]
    }
   ],
   "source": [
    "! ping -I wlan0 www.yahoo.com -c 10"
   ]
  },
  {
   "cell_type": "markdown",
   "metadata": {},
   "source": [
    "### 4. Reset connection"
   ]
  },
  {
   "cell_type": "code",
   "execution_count": 4,
   "metadata": {},
   "outputs": [],
   "source": [
    "port.reset()"
   ]
  }
 ],
 "metadata": {
  "kernelspec": {
   "display_name": "Python 3 (ipykernel)",
   "language": "python",
   "name": "python3"
  },
  "language_info": {
   "codemirror_mode": {
    "name": "ipython",
    "version": 3
   },
   "file_extension": ".py",
   "mimetype": "text/x-python",
   "name": "python",
   "nbconvert_exporter": "python",
   "pygments_lexer": "ipython3",
   "version": "3.10.4"
  }
 },
 "nbformat": 4,
 "nbformat_minor": 1
}
