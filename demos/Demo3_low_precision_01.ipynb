{
 "cells": [
  {
   "cell_type": "markdown",
   "metadata": {},
   "source": [
    "**Instructions for running this Julia notebook:**\n",
    "\n",
    "If you do not have access to run a Julia Notebook. You can do the following in the Virtual machine provided\n",
    "\n",
    "a. Follow the basic Instruction to install Julia:\n",
    "\n",
    "https://medium.com/coffee-in-a-klein-bottle/install-julia-1-5-on-ubuntu-bb8be4b2571d\n",
    "\n",
    "b. In a shell run anaconda-navigator:\n",
    "\n",
    "Then open a jupyter notebook or jupyter lab and open the provided example.\n",
    "\n",
    "c. Run the notebook. Observe that \"PyPlot\" is not installed.\n",
    "\n",
    "Run the command suggested in the error mesaje ( in a Julia console \"import Pkg; Pkg.add(\"PyPlot\"))"
   ]
  },
  {
   "cell_type": "code",
   "execution_count": 1,
   "metadata": {},
   "outputs": [
    {
     "ename": "LoadError",
     "evalue": "InitError: \u001b[91mPyError (PyImport_ImportModule\u001b[39m\n\n\u001b[91mThe Python package matplotlib could not be imported by pyimport. Usually this means\u001b[39m\n\u001b[91mthat you did not install matplotlib in the Python version being used by PyCall.\u001b[39m\n\n\u001b[91mPyCall is currently configured to use the Python version at:\u001b[39m\n\n\u001b[91m/home/osboxes/anaconda3/bin/python3\u001b[39m\n\n\u001b[91mand you should use whatever mechanism you usually use (apt-get, pip, conda,\u001b[39m\n\u001b[91metcetera) to install the Python package containing the matplotlib module.\u001b[39m\n\n\u001b[91mOne alternative is to re-configure PyCall to use a different Python\u001b[39m\n\u001b[91mversion on your system: set ENV[\"PYTHON\"] to the path/name of the python\u001b[39m\n\u001b[91mexecutable you want to use, run Pkg.build(\"PyCall\"), and re-launch Julia.\u001b[39m\n\n\u001b[91mAnother alternative is to configure PyCall to use a Julia-specific Python\u001b[39m\n\u001b[91mdistribution via the Conda.jl package (which installs a private Anaconda\u001b[39m\n\u001b[91mPython distribution), which has the advantage that packages can be installed\u001b[39m\n\u001b[91mand kept up-to-date via Julia.  As explained in the PyCall documentation,\u001b[39m\n\u001b[91mset ENV[\"PYTHON\"]=\"\", run Pkg.build(\"PyCall\"), and re-launch Julia. Then,\u001b[39m\n\u001b[91mTo install the matplotlib module, you can use `pyimport_conda(\"matplotlib\", PKG)`,\u001b[39m\n\u001b[91mwhere PKG is the Anaconda package that contains the module matplotlib,\u001b[39m\n\u001b[91mor alternatively you can use the Conda package directly (via\u001b[39m\n\u001b[91m`using Conda` followed by `Conda.add` etcetera).\u001b[39m\n\n\u001b[91m) <class 'ImportError'>\u001b[39m\n\u001b[91mImportError(\"/opt/julia-1.5.4/bin/../lib/julia/libstdc++.so.6: version `GLIBCXX_3.4.29' not found (required by /home/osboxes/anaconda3/lib/python3.8/site-packages/matplotlib/_path.cpython-38-x86_64-linux-gnu.so)\")\u001b[39m\n\u001b[91m  File \"/home/osboxes/anaconda3/lib/python3.8/site-packages/matplotlib/__init__.py\", line 113, in <module>\u001b[39m\n\u001b[91m    from . import _api, _version, cbook, _docstring, rcsetup\u001b[39m\n\u001b[91m  File \"/home/osboxes/anaconda3/lib/python3.8/site-packages/matplotlib/rcsetup.py\", line 27, in <module>\u001b[39m\n\u001b[91m    from matplotlib.colors import Colormap, is_color_like\u001b[39m\n\u001b[91m  File \"/home/osboxes/anaconda3/lib/python3.8/site-packages/matplotlib/colors.py\", line 56, in <module>\u001b[39m\n\u001b[91m    from matplotlib import _api, _cm, cbook, scale\u001b[39m\n\u001b[91m  File \"/home/osboxes/anaconda3/lib/python3.8/site-packages/matplotlib/scale.py\", line 22, in <module>\u001b[39m\n\u001b[91m    from matplotlib.ticker import (\u001b[39m\n\u001b[91m  File \"/home/osboxes/anaconda3/lib/python3.8/site-packages/matplotlib/ticker.py\", line 138, in <module>\u001b[39m\n\u001b[91m    from matplotlib import transforms as mtransforms\u001b[39m\n\u001b[91m  File \"/home/osboxes/anaconda3/lib/python3.8/site-packages/matplotlib/transforms.py\", line 49, in <module>\u001b[39m\n\u001b[91m    from matplotlib._path import (\u001b[39m\n\nduring initialization of module PyPlot",
     "output_type": "error",
     "traceback": [
      "InitError: \u001b[91mPyError (PyImport_ImportModule\u001b[39m\n\n\u001b[91mThe Python package matplotlib could not be imported by pyimport. Usually this means\u001b[39m\n\u001b[91mthat you did not install matplotlib in the Python version being used by PyCall.\u001b[39m\n\n\u001b[91mPyCall is currently configured to use the Python version at:\u001b[39m\n\n\u001b[91m/home/osboxes/anaconda3/bin/python3\u001b[39m\n\n\u001b[91mand you should use whatever mechanism you usually use (apt-get, pip, conda,\u001b[39m\n\u001b[91metcetera) to install the Python package containing the matplotlib module.\u001b[39m\n\n\u001b[91mOne alternative is to re-configure PyCall to use a different Python\u001b[39m\n\u001b[91mversion on your system: set ENV[\"PYTHON\"] to the path/name of the python\u001b[39m\n\u001b[91mexecutable you want to use, run Pkg.build(\"PyCall\"), and re-launch Julia.\u001b[39m\n\n\u001b[91mAnother alternative is to configure PyCall to use a Julia-specific Python\u001b[39m\n\u001b[91mdistribution via the Conda.jl package (which installs a private Anaconda\u001b[39m\n\u001b[91mPython distribution), which has the advantage that packages can be installed\u001b[39m\n\u001b[91mand kept up-to-date via Julia.  As explained in the PyCall documentation,\u001b[39m\n\u001b[91mset ENV[\"PYTHON\"]=\"\", run Pkg.build(\"PyCall\"), and re-launch Julia. Then,\u001b[39m\n\u001b[91mTo install the matplotlib module, you can use `pyimport_conda(\"matplotlib\", PKG)`,\u001b[39m\n\u001b[91mwhere PKG is the Anaconda package that contains the module matplotlib,\u001b[39m\n\u001b[91mor alternatively you can use the Conda package directly (via\u001b[39m\n\u001b[91m`using Conda` followed by `Conda.add` etcetera).\u001b[39m\n\n\u001b[91m) <class 'ImportError'>\u001b[39m\n\u001b[91mImportError(\"/opt/julia-1.5.4/bin/../lib/julia/libstdc++.so.6: version `GLIBCXX_3.4.29' not found (required by /home/osboxes/anaconda3/lib/python3.8/site-packages/matplotlib/_path.cpython-38-x86_64-linux-gnu.so)\")\u001b[39m\n\u001b[91m  File \"/home/osboxes/anaconda3/lib/python3.8/site-packages/matplotlib/__init__.py\", line 113, in <module>\u001b[39m\n\u001b[91m    from . import _api, _version, cbook, _docstring, rcsetup\u001b[39m\n\u001b[91m  File \"/home/osboxes/anaconda3/lib/python3.8/site-packages/matplotlib/rcsetup.py\", line 27, in <module>\u001b[39m\n\u001b[91m    from matplotlib.colors import Colormap, is_color_like\u001b[39m\n\u001b[91m  File \"/home/osboxes/anaconda3/lib/python3.8/site-packages/matplotlib/colors.py\", line 56, in <module>\u001b[39m\n\u001b[91m    from matplotlib import _api, _cm, cbook, scale\u001b[39m\n\u001b[91m  File \"/home/osboxes/anaconda3/lib/python3.8/site-packages/matplotlib/scale.py\", line 22, in <module>\u001b[39m\n\u001b[91m    from matplotlib.ticker import (\u001b[39m\n\u001b[91m  File \"/home/osboxes/anaconda3/lib/python3.8/site-packages/matplotlib/ticker.py\", line 138, in <module>\u001b[39m\n\u001b[91m    from matplotlib import transforms as mtransforms\u001b[39m\n\u001b[91m  File \"/home/osboxes/anaconda3/lib/python3.8/site-packages/matplotlib/transforms.py\", line 49, in <module>\u001b[39m\n\u001b[91m    from matplotlib._path import (\u001b[39m\n\nduring initialization of module PyPlot",
      "",
      "Stacktrace:",
      " [1] pyimport(::String) at /home/osboxes/.julia/packages/PyCall/tqyST/src/PyCall.jl:547",
      " [2] pyimport_conda(::String, ::String, ::String) at /home/osboxes/.julia/packages/PyCall/tqyST/src/PyCall.jl:705",
      " [3] pyimport_conda at /home/osboxes/.julia/packages/PyCall/tqyST/src/PyCall.jl:704 [inlined]",
      " [4] __init__() at /home/osboxes/.julia/packages/PyPlot/XHEG0/src/init.jl:179",
      " [5] _include_from_serialized(::String, ::Array{Any,1}) at ./loading.jl:697",
      " [6] _require_search_from_serialized(::Base.PkgId, ::String) at ./loading.jl:782",
      " [7] _require(::Base.PkgId) at ./loading.jl:1007",
      " [8] require(::Base.PkgId) at ./loading.jl:928",
      " [9] require(::Module, ::Symbol) at ./loading.jl:923",
      " [10] include_string(::Function, ::Module, ::String, ::String) at ./loading.jl:1091"
     ]
    }
   ],
   "source": [
    "using PyPlot\n",
    "using LinearAlgebra\n",
    "using Random\n",
    "\n",
    "Random.seed!(12345);"
   ]
  },
  {
   "cell_type": "markdown",
   "metadata": {},
   "source": [
    "# Exploring Low-Precision Training\n",
    "\n",
    "Let's look at how our logistic regression model from the previous couple of demos is affected by training in low-precision floating-point arithmetic.\n",
    "\n",
    "First, define a low-precision numeric type in Julia."
   ]
  },
  {
   "cell_type": "code",
   "execution_count": 2,
   "metadata": {},
   "outputs": [
    {
     "data": {
      "text/plain": [
       "rescale_bias (generic function with 5 methods)"
      ]
     },
     "execution_count": 2,
     "metadata": {},
     "output_type": "execute_result"
    }
   ],
   "source": [
    "import Base.convert\n",
    "import Base.length\n",
    "import Base.zero\n",
    "import Base.one\n",
    "import Base.typemin\n",
    "import Base.transpose\n",
    "import Base.sqrt\n",
    "import LinearAlgebra.dot\n",
    "import Base.exp\n",
    "import Base.expm1\n",
    "import Base.isless\n",
    "import Base.log\n",
    "import Base.+\n",
    "import Base.-\n",
    "import Base.*\n",
    "import Base./\n",
    "\n",
    "\n",
    "abstract type NoDynamicBias end;\n",
    "\n",
    "# NB = number of mantissa bits\n",
    "# NE = number of exponent bits\n",
    "# EBIAS = extra exponent bias; default should be 0 which corresponds to a bias of (1 << (NE-1)) - 1\n",
    "# RM = rounding mode\n",
    "struct SimFP{NB,NE,EBIAS,RM} <: Number\n",
    "  v::Float64;\n",
    "  SimFP{NB,NE,EBIAS,RM}(x::Float64) where {NB,NE,EBIAS,RM} = new{NB,NE,EBIAS,RM}(quantize(x, SimFP{NB,NE,EBIAS,RM})); # NB, NE, EBIAS, RM));\n",
    "end\n",
    "\n",
    "function Float64(x::SimFP)\n",
    "  return x.v\n",
    "end\n",
    "\n",
    "function convert(::Type{Float64}, x::SimFP)\n",
    "  return x.v\n",
    "end\n",
    "\n",
    "function convert(::Type{SimFP{NB,NE,EBIAS,RM}}, x::SimFP) where {NB,NE,EBIAS,RM}\n",
    "  return SimFP{NB,NE,EBIAS,RM}(x.v)\n",
    "end\n",
    "\n",
    "function convert(::Type{SimFP{NB,NE,EBIAS,RM}}, x::Float64) where {NB,NE,EBIAS,RM}\n",
    "  return SimFP{NB,NE,EBIAS,RM}(x)\n",
    "end\n",
    "\n",
    "function convert(::Type{SimFP{NB,NE,EBIAS,RM}}, x) where {NB,NE,EBIAS,RM}\n",
    "  return SimFP{NB,NE,EBIAS,RM}(convert(Float64, x))\n",
    "end\n",
    "\n",
    "function (::Type{SimFP{NB,NE,EBIAS,RM}})(x) where {NB,NE,EBIAS,RM}\n",
    "  return SimFP{NB,NE,EBIAS,RM}(convert(Float64, x))\n",
    "end\n",
    "\n",
    "# function convert(::Type{T}, x::SimFP) where {T}\n",
    "#   return convert(T, x.v)\n",
    "# end\n",
    "\n",
    "function zero(::Type{SimFP{NB,NE,EBIAS,RM}}) where {NB,NE,EBIAS,RM}\n",
    "  return SimFP{NB,NE,EBIAS,RM}(0.0)\n",
    "end\n",
    "\n",
    "function zero(::SimFP{NB,NE,EBIAS,RM}) where {NB,NE,EBIAS,RM}\n",
    "  return SimFP{NB,NE,EBIAS,RM}(0.0)\n",
    "end\n",
    "\n",
    "function one(::Type{SimFP{NB,NE,EBIAS,RM}}) where {NB,NE,EBIAS,RM}\n",
    "  return SimFP{NB,NE,EBIAS,RM}(1.0)\n",
    "end\n",
    "\n",
    "function one(::SimFP{NB,NE,EBIAS,RM}) where {NB,NE,EBIAS,RM}\n",
    "  return SimFP{NB,NE,EBIAS,RM}(1.0)\n",
    "end\n",
    "\n",
    "function typemin(::SimFP{NB,NE,EBIAS,RM}) where {NB,NE,EBIAS,RM}\n",
    "  return SimFP{NB,NE,EBIAS,RM}(-realmax(Float64))\n",
    "end\n",
    "\n",
    "function typemax(::SimFP{NB,NE,EBIAS,RM}) where {NB,NE,EBIAS,RM}\n",
    "  return SimFP{NB,NE,EBIAS,RM}(realmax(Float64))\n",
    "end\n",
    "\n",
    "function transpose(x::SimFP{NB,NE,EBIAS,RM}) where {NB,NE,EBIAS,RM}\n",
    "  return x\n",
    "end\n",
    "\n",
    "function sqrt(x::SimFP{NB,NE,EBIAS,RM}) where {NB,NE,EBIAS,RM}\n",
    "  return SimFP{NB,NE,EBIAS,RM}(sqrt(x.v))\n",
    "end\n",
    "\n",
    "function dot(x::SimFP{NB,NE,EBIAS,RM}, y::SimFP{NB,NE,EBIAS,RM}) where {NB,NE,EBIAS,RM}\n",
    "  return SimFP{NB,NE,EBIAS,RM}(dot(x.v, y.v))\n",
    "end\n",
    "\n",
    "function exp(x::SimFP{NB,NE,EBIAS,RM}) where {NB,NE,EBIAS,RM}\n",
    "  return SimFP{NB,NE,EBIAS,RM}(exp(x.v))\n",
    "end\n",
    "\n",
    "function expm1(x::SimFP{NB,NE,EBIAS,RM}) where {NB,NE,EBIAS,RM}\n",
    "  return SimFP{NB,NE,EBIAS,RM}(expm1(x.v))\n",
    "end\n",
    "\n",
    "function log(x::SimFP{NB,NE,EBIAS,RM}) where {NB,NE,EBIAS,RM}\n",
    "  return SimFP{NB,NE,EBIAS,RM}(log(x.v))\n",
    "end\n",
    "\n",
    "function isless(x::SimFP{NB,NE,EBIAS,RM}, y::SimFP{NB,NE,EBIAS,RM}) where {NB,NE,EBIAS,RM}\n",
    "  return isless(x.v, y.v)\n",
    "end\n",
    "\n",
    "abstract type RoundingModeNearest end;\n",
    "abstract type RoundingModeRandom end;\n",
    "\n",
    "abstract type RoundingModeNearestFast end;\n",
    "abstract type RoundingModeRandomFast end;\n",
    "\n",
    "function quantize(x::Float64, nb::Int64, ne::Int64, ::Type{NoDynamicBias}, rm)\n",
    "  return quantize(x, nb, ne, 0, rm);\n",
    "end\n",
    "\n",
    "function quantize(x::Float64, ::Type{SimFP{nb,ne,ebias,RoundingModeNearest}}) where {nb,ne,ebias}\n",
    "  if (x == 0.0)\n",
    "    return x;\n",
    "  end\n",
    "  # @assert(ne <= 11);\n",
    "  xi = reinterpret(Int64, x);\n",
    "  xir = (xi + 1 << (51 - nb)) & (~((1 << (52 - nb)) - 1));\n",
    "  if (ne < 11)\n",
    "    xir_pos = xir & (~(1 << 63));\n",
    "    xir_sign = xir & (1 << 63);\n",
    "    bias = ebias + (1 << (ne-1)) - 1;\n",
    "    qf_max = (((bias + 1 + 1023) << nb) - 1) << (52 - nb);\n",
    "    qf_min = (1023 - bias + 1) << 52;\n",
    "    qf_min_d2 = (1023 - bias) << 52;\n",
    "    if (xir_pos > qf_max)\n",
    "      return reinterpret(Float64, qf_max | xir_sign);\n",
    "    elseif (xir_pos < qf_min_d2)\n",
    "      return Float64(0.0);\n",
    "    elseif (xir_pos < qf_min)\n",
    "      return reinterpret(Float64, qf_min | xir_sign);\n",
    "    end\n",
    "  end\n",
    "  return reinterpret(Float64, xir);\n",
    "end\n",
    "\n",
    "function quantize(x::Float64, ::Type{SimFP{nb,ne,ebias,RoundingModeRandom}}) where {nb,ne,ebias}\n",
    "  if (x == 0.0)\n",
    "    return x;\n",
    "  end\n",
    "  # @assert(ne <= 11);\n",
    "  mask = (1 << (52 - nb)) - 1;\n",
    "  xi = reinterpret(Int64, x);\n",
    "  xir = (xi + (rand(Int64) & mask)) & (~mask);\n",
    "  if (ne < 11)\n",
    "    xir_pos = xir & (~(1 << 63));\n",
    "    xir_sign = xir & (1 << 63);\n",
    "    bias = ebias + (1 << (ne-1)) - 1;\n",
    "    qf_max = (((bias + 1 + 1023) << nb) - 1) << (52 - nb);\n",
    "    qf_min = (1023 - bias + 1) << 52;\n",
    "    if (xir_pos > qf_max)\n",
    "      return reinterpret(Float64, qf_max | xir_sign);\n",
    "    elseif (xir_pos < qf_min)\n",
    "      xfr_pos = reinterpret(Float64, xir_pos);\n",
    "      ff_min = reinterpret(Float64, qf_min);\n",
    "      if (xfr_pos / ff_min > rand())\n",
    "        return reinterpret(Float64, qf_min | xir_sign);\n",
    "      else\n",
    "        return Float64(0.0)\n",
    "      end\n",
    "    end\n",
    "  end\n",
    "  return reinterpret(Float64, xir);\n",
    "end\n",
    "\n",
    "function quantize(x::Float64, ::Type{SimFP{nb,ne,ebias,RoundingModeNearestFast}}) where {nb,ne,ebias}\n",
    "  xi = reinterpret(Int64, x);\n",
    "  xir = (xi + 1 << (51 - nb)) & (~((1 << (52 - nb)) - 1));\n",
    "  return reinterpret(Float64, xir);\n",
    "end\n",
    "\n",
    "function quantize(x::Float64, ::Type{SimFP{nb,ne,ebias,RoundingModeRandomFast}}) where {nb,ne,ebias}\n",
    "  mask = (1 << (52 - nb)) - 1;\n",
    "  xi = reinterpret(Int64, x);\n",
    "  xir = (xi + (rand(Int64) & mask)) & (~mask);\n",
    "  return reinterpret(Float64, xir);\n",
    "end\n",
    "\n",
    "function +(x::SimFP{NB,NE,EBIAS,RM}, y::SimFP{NB,NE,EBIAS,RM}) where {NB,NE,EBIAS,RM}\n",
    "  return SimFP{NB,NE,EBIAS,RM}(x.v + y.v)\n",
    "end\n",
    "\n",
    "function -(x::SimFP{NB,NE,EBIAS,RM}, y::SimFP{NB,NE,EBIAS,RM}) where {NB,NE,EBIAS,RM}\n",
    "  return SimFP{NB,NE,EBIAS,RM}(x.v - y.v)\n",
    "end\n",
    "\n",
    "function *(x::SimFP{NB,NE,0,RM}, y::SimFP{NB,NE,EBIASY,RM}) where {NB,NE,EBIASY,RM}\n",
    "  return SimFP{NB,NE,EBIASY,RM}(x.v * y.v)\n",
    "end\n",
    "\n",
    "function *(x::SimFP{NB,NE,EBIASX,RM}, y::SimFP{NB,NE,0,RM}) where {NB,NE,EBIASX,RM}\n",
    "  return SimFP{NB,NE,EBIASX,RM}(x.v * y.v)\n",
    "end\n",
    "\n",
    "function *(x::SimFP{NB,NE,0,RM}, y::SimFP{NB,NE,0,RM}) where {NB,NE,RM}\n",
    "  return SimFP{NB,NE,0,RM}(x.v * y.v)\n",
    "end\n",
    "\n",
    "function *(x::SimFP{NB,NE,EBIASX,RM}, y::SimFP{NB,NE,EBIASY,RM}) where {NB,NE,EBIASX,EBIASY,RM}\n",
    "  return SimFP{NB,NE,EBIASX+EBIASY,RM}(x.v * y.v)\n",
    "end\n",
    "\n",
    "function /(x::SimFP{NB,NE,EBIASX,RM}, y::SimFP{NB,NE,0,RM}) where {NB,NE,EBIASX,RM}\n",
    "  return SimFP{NB,NE,EBIASX,RM}(x.v / y.v)\n",
    "end\n",
    "\n",
    "function /(x::SimFP{NB,NE,EBIASX,RM}, y::SimFP{NB,NE,EBIASY,RM}) where {NB,NE,EBIASX,EBIASY,RM}\n",
    "  return SimFP{NB,NE,EBIASX-EBIASY,RM}(x.v / y.v)\n",
    "end\n",
    "\n",
    "function /(x::SimFP{NB,NE,EBIAS,RM}, y::Int64) where {NB,NE,EBIAS,RM}\n",
    "  return SimFP{NB,NE,EBIAS,RM}(x.v / Float64(y))\n",
    "end\n",
    "\n",
    "function -(x::SimFP{NB,NE,EBIAS,RM}) where {NB,NE,EBIAS,RM}\n",
    "  return SimFP{NB,NE,EBIAS,RM}(-x.v)\n",
    "end\n",
    "\n",
    "function +(::Type{NoDynamicBias}, ::Type{NoDynamicBias})\n",
    "  return NoDynamicBias;\n",
    "end\n",
    "\n",
    "function -(::Type{NoDynamicBias}, ::Type{NoDynamicBias})\n",
    "  return NoDynamicBias;\n",
    "end\n",
    "\n",
    "function rescale_bias(::Type{SimFP{NB,NE,EBIAS,RM}}, hint) where {NB,NE,EBIAS,RM}\n",
    "  hint64 = Float64(hint);\n",
    "  eb = -Int64(floor(log2(hint64)));\n",
    "  println(\"based on hint ($(hint64)), setting exponent bias to: $(eb)\")\n",
    "  return SimFP{NB,NE,eb,RM};\n",
    "end\n",
    "\n",
    "function rescale_bias(::Type{SimFP{NB,NE,NoDynamicBias,RM}}, hint) where {NB,NE,RM}\n",
    "  return SimFP{NB,NE,NoDynamicBias,RM};\n",
    "end\n",
    "\n",
    "function rescale_bias(::Type{Float16}, hint)\n",
    "  return Float16\n",
    "end\n",
    "\n",
    "function rescale_bias(::Type{Float32}, hint)\n",
    "  return Float32\n",
    "end\n",
    "\n",
    "function rescale_bias(::Type{Float64}, hint)\n",
    "  return Float64\n",
    "end"
   ]
  },
  {
   "cell_type": "code",
   "execution_count": 3,
   "metadata": {},
   "outputs": [
    {
     "ename": "LoadError",
     "evalue": "\u001b[91mUndefVarError: Random not defined\u001b[39m",
     "output_type": "error",
     "traceback": [
      "\u001b[91mUndefVarError: Random not defined\u001b[39m",
      "",
      "Stacktrace:",
      " [1] top-level scope at In[3]:2",
      " [2] include_string(::Function, ::Module, ::String, ::String) at ./loading.jl:1091"
     ]
    }
   ],
   "source": [
    "# generate the data\n",
    "Random.seed!(424242)\n",
    "d = 50;\n",
    "N = 10000;\n",
    "wtrue = randn(d);\n",
    "wtrue = d^2 * wtrue / norm(wtrue);\n",
    "X = randn(N, d);\n",
    "X ./= sqrt.(sum(X.^2; dims=2));\n",
    "Y = (1 ./ (1 .+ exp.(-X * wtrue)) .>= rand(N)) .* 2 .- 1;\n",
    "sigma = 1e-3;"
   ]
  },
  {
   "cell_type": "code",
   "execution_count": 4,
   "metadata": {},
   "outputs": [
    {
     "ename": "LoadError",
     "evalue": "\u001b[91mUndefVarError: d not defined\u001b[39m",
     "output_type": "error",
     "traceback": [
      "\u001b[91mUndefVarError: d not defined\u001b[39m",
      "",
      "Stacktrace:",
      " [1] top-level scope at In[4]:1",
      " [2] include_string(::Function, ::Module, ::String, ::String) at ./loading.jl:1091"
     ]
    }
   ],
   "source": [
    "w0 = zeros(d);"
   ]
  },
  {
   "cell_type": "code",
   "execution_count": 5,
   "metadata": {},
   "outputs": [
    {
     "data": {
      "text/plain": [
       "sgd_logreg (generic function with 2 methods)"
      ]
     },
     "execution_count": 5,
     "metadata": {},
     "output_type": "execute_result"
    }
   ],
   "source": [
    "function sgd_logreg(w0::Array{T,1}, alpha::T, gamma::T, X::Array{T,2}, Y::Array{T,1}, sigma::T, niters::Int64, wopt::Array{T,1}) where {T<:Number}\n",
    "    w = w0\n",
    "    (N, d) = size(X)\n",
    "    dist2_to_optimum = zeros(niters)\n",
    "    for k = 1:niters\n",
    "        i = rand(1:N)\n",
    "        xi = X[i,:];\n",
    "        yi = Y[i];\n",
    "        w += -alpha * sigma * w + alpha * xi * yi / (one(alpha) .+ exp.(yi * dot(xi, w)));\n",
    "        dist2_to_optimum[k] = sum((w - wopt).^2);\n",
    "    end\n",
    "    return (w, dist2_to_optimum);\n",
    "end\n",
    "\n",
    "function sgd_logreg(::Type{T}, w0, alpha, gamma, X, Y, sigma, niters, wopt) where {T<:Number}\n",
    "    (w, dist2_to_optimum) = sgd_logreg(T.(w0), T(alpha), T(gamma), T.(X), T.(Y), T.(sigma), niters, T.(wopt))\n",
    "    return (Float64.(w), Float64.(dist2_to_optimum));\n",
    "end"
   ]
  },
  {
   "cell_type": "code",
   "execution_count": 6,
   "metadata": {},
   "outputs": [
    {
     "ename": "LoadError",
     "evalue": "\u001b[91mUndefVarError: wtrue not defined\u001b[39m",
     "output_type": "error",
     "traceback": [
      "\u001b[91mUndefVarError: wtrue not defined\u001b[39m",
      "",
      "Stacktrace:",
      " [1] top-level scope at In[6]:15",
      " [2] include_string(::Function, ::Module, ::String, ::String) at ./loading.jl:1091"
     ]
    }
   ],
   "source": [
    "# find the true minimum\n",
    "function newton_logreg(w0, X, Y, sigma, niters)\n",
    "    N = size(X, 1);\n",
    "    d = size(X, 2);\n",
    "    w = w0;\n",
    "    for k = 1:niters\n",
    "        g = -X' * (Y ./ (1 .+ exp.(Y .* (X * w)))) + N * sigma * w;\n",
    "        H = X' * ((1 ./ ((1 .+ exp.(Y .* (X * w))) .* (1 .+ exp.(-Y .* (X * w))))) .* X) + N * sigma * I;\n",
    "        w = w - H \\ g;\n",
    "        # println(\"gradient norm: $(norm(g))\")\n",
    "    end\n",
    "    return w\n",
    "end\n",
    "\n",
    "wopt = newton_logreg(wtrue, X, Y, sigma, 20);"
   ]
  },
  {
   "cell_type": "code",
   "execution_count": null,
   "metadata": {},
   "outputs": [],
   "source": []
  },
  {
   "cell_type": "code",
   "execution_count": 7,
   "metadata": {},
   "outputs": [],
   "source": [
    "# define low-precision types\n",
    "\n",
    "Float16Rand = SimFP{10,5,0,RoundingModeRandom};\n",
    "Float16Near = SimFP{10,5,0,RoundingModeNearest};"
   ]
  },
  {
   "cell_type": "code",
   "execution_count": 8,
   "metadata": {},
   "outputs": [
    {
     "ename": "LoadError",
     "evalue": "\u001b[91mUndefVarError: Random not defined\u001b[39m",
     "output_type": "error",
     "traceback": [
      "\u001b[91mUndefVarError: Random not defined\u001b[39m",
      "",
      "Stacktrace:",
      " [1] top-level scope at In[8]:3",
      " [2] include_string(::Function, ::Module, ::String, ::String) at ./loading.jl:1091"
     ]
    }
   ],
   "source": [
    "alpha = 0.1;\n",
    "\n",
    "Random.seed!(123456);\n",
    "(w, dto) = sgd_logreg(Float32, w0, alpha, sigma, X, Y, sigma, 100000, wopt);\n",
    "\n",
    "Random.seed!(123456);\n",
    "(w2, dto2) = sgd_logreg(Float16Rand, w0, alpha, sigma, X, Y, sigma, 100000, wopt);\n",
    "\n",
    "Random.seed!(123456);\n",
    "(w3, dto3) = sgd_logreg(Float16Near, w0, alpha, sigma, X, Y, sigma, 100000, wopt);"
   ]
  },
  {
   "cell_type": "code",
   "execution_count": 9,
   "metadata": {},
   "outputs": [
    {
     "ename": "LoadError",
     "evalue": "\u001b[91mUndefVarError: plot not defined\u001b[39m",
     "output_type": "error",
     "traceback": [
      "\u001b[91mUndefVarError: plot not defined\u001b[39m",
      "",
      "Stacktrace:",
      " [1] top-level scope at In[9]:1",
      " [2] include_string(::Function, ::Module, ::String, ::String) at ./loading.jl:1091"
     ]
    }
   ],
   "source": [
    "plot(dto; label=\"Float32\");\n",
    "plot(dto2; label=\"Float16 (random)\");\n",
    "plot(dto3; label=\"Float16 (nearest)\");\n",
    "legend();\n",
    "ylim([0,10]);\n",
    "#xlim([95000,100000])"
   ]
  },
  {
   "cell_type": "code",
   "execution_count": 10,
   "metadata": {},
   "outputs": [
    {
     "ename": "LoadError",
     "evalue": "\u001b[91mUndefVarError: Random not defined\u001b[39m",
     "output_type": "error",
     "traceback": [
      "\u001b[91mUndefVarError: Random not defined\u001b[39m",
      "",
      "Stacktrace:",
      " [1] top-level scope at In[10]:8",
      " [2] include_string(::Function, ::Module, ::String, ::String) at ./loading.jl:1091"
     ]
    }
   ],
   "source": [
    "alpha = 0.1;\n",
    "\n",
    "Float12Rand = SimFP{6,5,0,RoundingModeRandom};\n",
    "Float12Near = SimFP{6,5,0,RoundingModeNearest};\n",
    "#Float12Rand = SimFP{7,8,0,RoundingModeRandom};\n",
    "#Float12Near = SimFP{7,8,0,RoundingModeNearest};\n",
    "\n",
    "Random.seed!(123456);\n",
    "(w, dto) = sgd_logreg(Float32, w0, alpha, sigma, X, Y, sigma, 100000, wopt);\n",
    "\n",
    "Random.seed!(123456);\n",
    "(w2, dto2) = sgd_logreg(Float12Rand, w0, alpha, sigma, X, Y, sigma, 100000, wopt);\n",
    "\n",
    "Random.seed!(123456);\n",
    "(w3, dto3) = sgd_logreg(Float12Near, w0, alpha, sigma, X, Y, sigma, 100000, wopt);"
   ]
  },
  {
   "cell_type": "code",
   "execution_count": 11,
   "metadata": {},
   "outputs": [
    {
     "ename": "LoadError",
     "evalue": "\u001b[91mUndefVarError: plot not defined\u001b[39m",
     "output_type": "error",
     "traceback": [
      "\u001b[91mUndefVarError: plot not defined\u001b[39m",
      "",
      "Stacktrace:",
      " [1] top-level scope at In[11]:1",
      " [2] include_string(::Function, ::Module, ::String, ::String) at ./loading.jl:1091"
     ]
    }
   ],
   "source": [
    "plot(dto; label=\"Float32\");\n",
    "plot(dto2; label=\"Float12 (random)\");\n",
    "plot(dto3; label=\"Float12 (nearest)\");\n",
    "legend();\n",
    "ylim([0,10]);"
   ]
  },
  {
   "cell_type": "code",
   "execution_count": 12,
   "metadata": {},
   "outputs": [
    {
     "ename": "LoadError",
     "evalue": "\u001b[91mUndefVarError: Random not defined\u001b[39m",
     "output_type": "error",
     "traceback": [
      "\u001b[91mUndefVarError: Random not defined\u001b[39m",
      "",
      "Stacktrace:",
      " [1] top-level scope at In[12]:6",
      " [2] include_string(::Function, ::Module, ::String, ::String) at ./loading.jl:1091"
     ]
    }
   ],
   "source": [
    "alpha = 1.0;\n",
    "\n",
    "Float8Rand = SimFP{4,5,0,RoundingModeRandom};\n",
    "Float8Near = SimFP{4,5,0,RoundingModeNearest};\n",
    "\n",
    "Random.seed!(123456);\n",
    "(w, dto) = sgd_logreg(Float32, w0, alpha, sigma, X, Y, sigma, 100000, wopt);\n",
    "\n",
    "Random.seed!(123456);\n",
    "(w2, dto2) = sgd_logreg(Float8Rand, w0, alpha, sigma, X, Y, sigma, 100000, wopt);\n",
    "\n",
    "Random.seed!(123456);\n",
    "(w3, dto3) = sgd_logreg(Float8Near, w0, alpha, sigma, X, Y, sigma, 100000, wopt);"
   ]
  },
  {
   "cell_type": "code",
   "execution_count": 61,
   "metadata": {},
   "outputs": [
    {
     "data": {
      "image/png": "[encoded data removed]",
      "text/plain": [
       "Figure(PyObject <Figure size 640x480 with 1 Axes>)"
      ]
     },
     "metadata": {},
     "output_type": "display_data"
    }
   ],
   "source": [
    "plot(dto; label=\"Float32\");\n",
    "plot(dto2; label=\"Float8 (random)\");\n",
    "plot(dto3; label=\"Float8 (nearest)\");\n",
    "legend();"
   ]
  },
  {
   "cell_type": "code",
   "execution_count": null,
   "metadata": {},
   "outputs": [],
   "source": []
  }
 ],
 "metadata": {
  "@webio": {
   "lastCommId": null,
   "lastKernelId": null
  },
  "kernelspec": {
   "display_name": "Julia 1.5.4",
   "language": "julia",
   "name": "julia-1.5"
  },
  "language_info": {
   "file_extension": ".jl",
   "mimetype": "application/julia",
   "name": "julia",
   "version": "1.5.4"
  }
 },
 "nbformat": 4,
 "nbformat_minor": 4
}
